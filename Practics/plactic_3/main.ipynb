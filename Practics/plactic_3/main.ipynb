{
 "cells": [
  {
   "cell_type": "code",
   "execution_count": 79,
   "metadata": {},
   "outputs": [],
   "source": [
    "import urllib\n",
    "import urllib.request \n",
    "from bs4 import BeautifulSoup\n",
    "from zipfile import ZipFile, ZipInfo, ZIP_DEFLATED\n",
    "import os\n",
    "import glob\n",
    "\n",
    "path = '/home/kirill/projects/Web_Data_Mining/Web-Data-Mining/Practics/plactic_3/images/'\n",
    "url = 'https://unsplash.com/'\n",
    "\n",
    "if not os.path.isdir(path):\n",
    "    os.makedirs(path)\n",
    "        \n",
    "htmldata = urllib.request.urlopen(url)\n",
    "soup = BeautifulSoup(htmldata, 'html.parser') \n",
    "images = soup.find_all('img')   \n",
    "i = 0  \n",
    "for item in images: \n",
    "    i += 1\n",
    "    img  = item['src']\n",
    "    resource = urllib.request.urlopen(img)    \n",
    "    out = open(path + str(i) + '.jpeg', 'wb')\n",
    "    out.write(resource.read())\n",
    "    out.close()\n",
    "    \n",
    "file_dir = glob.glob('*.jpeg')\n",
    "\n",
    "with ZipFile('./images.zip', 'w', compression=ZIP_DEFLATED) as zpf:\n",
    "    for img_file in file_dir:\n",
    "        zpf.write(img_file)"
   ]
  },
  {
   "cell_type": "code",
   "execution_count": null,
   "metadata": {},
   "outputs": [],
   "source": []
  }
 ],
 "metadata": {
  "kernelspec": {
   "display_name": ".venv",
   "language": "python",
   "name": "python3"
  },
  "language_info": {
   "codemirror_mode": {
    "name": "ipython",
    "version": 3
   },
   "file_extension": ".py",
   "mimetype": "text/x-python",
   "name": "python",
   "nbconvert_exporter": "python",
   "pygments_lexer": "ipython3",
   "version": "3.8.10"
  }
 },
 "nbformat": 4,
 "nbformat_minor": 2
}
