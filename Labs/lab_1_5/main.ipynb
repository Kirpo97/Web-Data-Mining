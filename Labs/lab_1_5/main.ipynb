{
 "cells": [
  {
   "cell_type": "code",
   "execution_count": 31,
   "metadata": {},
   "outputs": [],
   "source": [
    "import wikipediaapi\n",
    "import json\n",
    "\n",
    "def search_datas(subject:str, language:str):\n",
    "\n",
    "    wiki_wiki = wikipediaapi.Wikipedia(\n",
    "        user_agent ='k007pm@yandex.ru',\n",
    "        language = language,\n",
    "        )\n",
    "    page = wiki_wiki.page(subject)\n",
    "    data = page.text\n",
    "\n",
    "    url = []\n",
    "    urls = page.links\n",
    "    for i in urls:\n",
    "        url.append(i)\n",
    "        \n",
    "    datas = {\n",
    "        'data': data,\n",
    "        'url': url,\\\n",
    "    }\n",
    "    with open('data.json', 'w', encoding='utf-8') as file:\n",
    "        json.dump(datas, file, ensure_ascii=False, indent=4) \n",
    "    \n",
    "    return datas\n",
    "        \n",
    "search = search_datas(\n",
    "    'Тесла',\n",
    "    'ru'\n",
    ")\n",
    "print(search)"
   ]
  }
 ],
 "metadata": {
  "kernelspec": {
   "display_name": ".venv",
   "language": "python",
   "name": "python3"
  },
  "language_info": {
   "codemirror_mode": {
    "name": "ipython",
    "version": 3
   },
   "file_extension": ".py",
   "mimetype": "text/x-python",
   "name": "python",
   "nbconvert_exporter": "python",
   "pygments_lexer": "ipython3",
   "version": "3.8.10"
  }
 },
 "nbformat": 4,
 "nbformat_minor": 2
}
