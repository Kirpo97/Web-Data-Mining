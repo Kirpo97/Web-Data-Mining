{
 "cells": [
  {
   "cell_type": "code",
   "execution_count": 121,
   "metadata": {},
   "outputs": [],
   "source": [
    "from bs4 import BeautifulSoup\n",
    "import requests\n",
    "\n",
    "def search(word:str):\n",
    "    \n",
    "    # Загрузка данных\n",
    "\n",
    "    pages = {\n",
    "        'https://rosstat.gov.ru/opendata/': '',\n",
    "        'https://rkn.gov.ru/opendata/': '',\n",
    "        'https://opendata.mkrf.ru/': '',\n",
    "        'https://opendata.permkrai.ru/': '',\n",
    "        'https://opendata.gorodperm.ru/': '',\n",
    "        'https://rosreestr.gov.ru/opendata/': '',\n",
    "        'https://dorozhnij.com/opendata/': ''\n",
    "    }\n",
    "\n",
    "    for site in pages:\n",
    "        try:\n",
    "            response = requests.get(site)\n",
    "            if response.status_code == 200:\n",
    "                soup = BeautifulSoup(response.content, 'lxml') \n",
    "                data = soup.find_all(name=['a', 'p', 'h', 'h1', 'h2', 'div'], href=True)\n",
    "                \n",
    "                print('\\nРесурс ' + site + ' ['+str(response.status_code) + ']')\n",
    "                for item in data:\n",
    "                    s = str(item.text).find(word)\n",
    "                    if s != -1:\n",
    "                        print(item)                 \n",
    "            else:\n",
    "                print('\\nОшибка подключения к сайту ' + site + ' ['+str(response.status_code) + ']')\n",
    "        except:\n",
    "            continue\n",
    "        "
   ]
  },
  {
   "cell_type": "code",
   "execution_count": 122,
   "metadata": {},
   "outputs": [
    {
     "name": "stdout",
     "output_type": "stream",
     "text": [
      "\n",
      "Ресурс https://rosstat.gov.ru/opendata/ [200]\n",
      "\n",
      "Ошибка подключения к сайту https://rkn.gov.ru/opendata/ [403]\n",
      "\n",
      "Ресурс https://opendata.mkrf.ru/ [200]\n",
      "\n",
      "Ошибка подключения к сайту https://opendata.permkrai.ru/ [403]\n",
      "\n",
      "Ресурс https://opendata.gorodperm.ru/ [200]\n",
      "\n",
      "Ошибка подключения к сайту https://dorozhnij.com/opendata/ [403]\n"
     ]
    }
   ],
   "source": [
    "# Задание 1: Самая прибыльная отрасль промышленности в РФ за последние 3 года\n",
    "\n",
    "search('Индекс')"
   ]
  },
  {
   "cell_type": "code",
   "execution_count": 89,
   "metadata": {},
   "outputs": [
    {
     "name": "stdout",
     "output_type": "stream",
     "text": [
      "\n",
      "Ресурс https://rosstat.gov.ru/opendata/ [200]\n",
      "\n",
      "Ошибка подключения к сайту https://rkn.gov.ru/opendata/ [403]\n",
      "\n",
      "Ресурс https://opendata.mkrf.ru/ [200]\n",
      "\n",
      "Ошибка подключения к сайту https://opendata.permkrai.ru/ [403]\n",
      "\n",
      "Ресурс https://opendata.gorodperm.ru/ [200]\n",
      "\n",
      "Ошибка подключения к сайту https://dorozhnij.com/opendata/ [403]\n"
     ]
    }
   ],
   "source": [
    "# Задание 2: Самая прибыльная отрасль промышленности в Пермском крае за последние 3 года\n",
    "\n",
    "search('Промышленность')"
   ]
  },
  {
   "cell_type": "code",
   "execution_count": 162,
   "metadata": {},
   "outputs": [
    {
     "ename": "KeyError",
     "evalue": "'href'",
     "output_type": "error",
     "traceback": [
      "\u001b[0;31m---------------------------------------------------------------------------\u001b[0m",
      "\u001b[0;31mKeyError\u001b[0m                                  Traceback (most recent call last)",
      "Cell \u001b[0;32mIn[162], line 7\u001b[0m\n\u001b[1;32m      4\u001b[0m data \u001b[38;5;241m=\u001b[39m soup\u001b[38;5;241m.\u001b[39mfind_all(\u001b[38;5;124m'\u001b[39m\u001b[38;5;124ma\u001b[39m\u001b[38;5;124m'\u001b[39m)  \n\u001b[1;32m      6\u001b[0m \u001b[38;5;28;01mfor\u001b[39;00m item \u001b[38;5;129;01min\u001b[39;00m data: \n\u001b[0;32m----> 7\u001b[0m     href \u001b[38;5;241m=\u001b[39m \u001b[43mitem\u001b[49m\u001b[43m[\u001b[49m\u001b[38;5;124;43m'\u001b[39;49m\u001b[38;5;124;43mhref\u001b[39;49m\u001b[38;5;124;43m'\u001b[39;49m\u001b[43m]\u001b[49m     \n\u001b[1;32m      8\u001b[0m     \u001b[38;5;28;01mif\u001b[39;00m(href[\u001b[38;5;241m-\u001b[39m\u001b[38;5;241m4\u001b[39m:]\u001b[38;5;241m==\u001b[39m\u001b[38;5;124m'\u001b[39m\u001b[38;5;124m.csv\u001b[39m\u001b[38;5;124m'\u001b[39m): \n\u001b[1;32m      9\u001b[0m         \u001b[38;5;28mprint\u001b[39m(item)\n",
      "File \u001b[0;32m~/projects/Web_Data_Mining/Web-Data-Mining/.venv/lib/python3.8/site-packages/bs4/element.py:1573\u001b[0m, in \u001b[0;36mTag.__getitem__\u001b[0;34m(self, key)\u001b[0m\n\u001b[1;32m   1570\u001b[0m \u001b[38;5;28;01mdef\u001b[39;00m \u001b[38;5;21m__getitem__\u001b[39m(\u001b[38;5;28mself\u001b[39m, key):\n\u001b[1;32m   1571\u001b[0m \u001b[38;5;250m    \u001b[39m\u001b[38;5;124;03m\"\"\"tag[key] returns the value of the 'key' attribute for the Tag,\u001b[39;00m\n\u001b[1;32m   1572\u001b[0m \u001b[38;5;124;03m    and throws an exception if it's not there.\"\"\"\u001b[39;00m\n\u001b[0;32m-> 1573\u001b[0m     \u001b[38;5;28;01mreturn\u001b[39;00m \u001b[38;5;28;43mself\u001b[39;49m\u001b[38;5;241;43m.\u001b[39;49m\u001b[43mattrs\u001b[49m\u001b[43m[\u001b[49m\u001b[43mkey\u001b[49m\u001b[43m]\u001b[49m\n",
      "\u001b[0;31mKeyError\u001b[0m: 'href'"
     ]
    }
   ],
   "source": [
    "response = requests.get('https://rosstat.gov.ru/opendata/')\n",
    "if response.status_code == 200:\n",
    "    soup = BeautifulSoup(response.text, 'lxml')\n",
    "    data = soup.find_all('a', href = True)  \n",
    "    \n",
    "    for item in data: \n",
    "        href = item['href']     \n",
    "        if(href[-4:]=='.csv'): \n",
    "            print(item)\n",
    "             "
   ]
  }
 ],
 "metadata": {
  "kernelspec": {
   "display_name": ".venv",
   "language": "python",
   "name": "python3"
  },
  "language_info": {
   "codemirror_mode": {
    "name": "ipython",
    "version": 3
   },
   "file_extension": ".py",
   "mimetype": "text/x-python",
   "name": "python",
   "nbconvert_exporter": "python",
   "pygments_lexer": "ipython3",
   "version": "3.8.10"
  }
 },
 "nbformat": 4,
 "nbformat_minor": 2
}
