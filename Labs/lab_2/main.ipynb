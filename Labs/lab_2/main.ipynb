{
 "cells": [
  {
   "cell_type": "code",
   "execution_count": 66,
   "metadata": {},
   "outputs": [],
   "source": [
    "from bs4 import BeautifulSoup\n",
    "import requests\n",
    "\n",
    "def search(word:str):\n",
    "    \n",
    "    # Загрузка данных\n",
    "\n",
    "    pages = {\n",
    "        'https://rosstat.gov.ru/opendata/': '',\n",
    "        'https://rkn.gov.ru/opendata/': '',\n",
    "        'https://opendata.mkrf.ru/': '',\n",
    "        'https://opendata.permkrai.ru/': '',\n",
    "        'https://opendata.gorodperm.ru/': '',\n",
    "        'https://rosreestr.gov.ru/opendata/': '',\n",
    "        'https://dorozhnij.com/opendata/': ''\n",
    "    }\n",
    "\n",
    "    for site in pages:\n",
    "        try:\n",
    "            response = requests.get(site)\n",
    "            if response.status_code == 200:\n",
    "                soup = BeautifulSoup(response.content, 'html.parser') \n",
    "                data = soup.find_all(name=['p', 'a', 'h', 'h1', 'h2', 'div'], href=True)\n",
    "                \n",
    "                print('\\nРесурс ' + site + ' ['+str(response.status_code) + ']')\n",
    "                for item in data:\n",
    "                    s = str(item.text).find(word)\n",
    "                    if s != -1:\n",
    "                        print(item)                 \n",
    "            else:\n",
    "                print('\\nОшибка подключения к сайту ' + site + ' ['+str(response.status_code) + ']')\n",
    "        except:\n",
    "            continue\n",
    "        "
   ]
  },
  {
   "cell_type": "code",
   "execution_count": 67,
   "metadata": {},
   "outputs": [
    {
     "name": "stdout",
     "output_type": "stream",
     "text": [
      "\n",
      "Ресурс https://rosstat.gov.ru/opendata/ [200]\n",
      "\n",
      "Ошибка подключения к сайту https://rkn.gov.ru/opendata/ [403]\n",
      "\n",
      "Ресурс https://opendata.mkrf.ru/ [200]\n",
      "\n",
      "Ошибка подключения к сайту https://opendata.permkrai.ru/ [403]\n",
      "\n",
      "Ресурс https://opendata.gorodperm.ru/ [200]\n",
      "<a href=\"https://www.gorodperm.ru/actions/main/industry/\">Промышленность</a>\n",
      "\n",
      "Ошибка подключения к сайту https://dorozhnij.com/opendata/ [403]\n"
     ]
    }
   ],
   "source": [
    "# Задание 1: Самая прибыльная отрасль промышленности в РФ за последние 3 года\n",
    "\n",
    "search('Промышленность')"
   ]
  },
  {
   "cell_type": "code",
   "execution_count": null,
   "metadata": {},
   "outputs": [],
   "source": [
    "# Задание 2: Самая прибыльная отрасль промышленности в Пермском крае за последние 3 года\n",
    "\n"
   ]
  }
 ],
 "metadata": {
  "kernelspec": {
   "display_name": ".venv",
   "language": "python",
   "name": "python3"
  },
  "language_info": {
   "codemirror_mode": {
    "name": "ipython",
    "version": 3
   },
   "file_extension": ".py",
   "mimetype": "text/x-python",
   "name": "python",
   "nbconvert_exporter": "python",
   "pygments_lexer": "ipython3",
   "version": "3.8.10"
  }
 },
 "nbformat": 4,
 "nbformat_minor": 2
}
